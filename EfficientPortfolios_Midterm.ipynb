{
 "cells": [
  {
   "cell_type": "markdown",
   "metadata": {
    "collapsed": true,
    "pycharm": {
     "name": "#%% md\n"
    }
   },
   "source": [
    "# Efficient Portfolios\n",
    "###### Petko Vladimirov Stoyanov - 21208084 - UCD Michael Smurfit Business School"
   ]
  },
  {
   "cell_type": "markdown",
   "source": [
    "## Part 1 - 40 marks\n",
    "Analyse two models for the input of historical data."
   ],
   "metadata": {
    "collapsed": false,
    "pycharm": {
     "name": "#%% md\n"
    }
   }
  },
  {
   "cell_type": "markdown",
   "source": [
    "#### 1. Model 1\n",
    "Download weekly price of the stock indices [27-Jan-2020, 23-Mar-2020] (9 prices, 8 returns):\n",
    "    - US: Dow Jones Industrial `^DJI`, S&P500 `^GSPC`\n",
    "    - UK: FTSE100 `^FTSE`\n",
    "    - Europe: MSCI Eurozone `EZU`\n",
    "    - Gold `GLD`"
   ],
   "metadata": {
    "collapsed": false,
    "pycharm": {
     "name": "#%% md\n"
    }
   }
  },
  {
   "cell_type": "code",
   "execution_count": 504,
   "outputs": [],
   "source": [
    "import yfinance as yf\n",
    "import pandas as pd\n",
    "import numpy as np"
   ],
   "metadata": {
    "collapsed": false,
    "pycharm": {
     "name": "#%%\n"
    }
   }
  },
  {
   "cell_type": "code",
   "execution_count": 486,
   "outputs": [
    {
     "name": "stdout",
     "output_type": "stream",
     "text": [
      "[*********************100%***********************]  5 of 5 completed\n"
     ]
    },
    {
     "data": {
      "text/plain": "                  EZU         GLD          ^DJI        ^FTSE        ^GSPC\nDate                                                                     \n2020-01-27  38.602436  149.330002  28256.029297  7286.000000  3225.520020\n2020-02-03  39.699097  147.789993  29102.509766  7466.700195  3327.709961\n2020-02-10  39.994717  149.000000  29398.080078  7409.100098  3380.159912\n2020-02-17  39.584667  154.699997  28992.410156  7403.899902  3337.750000\n2020-02-24  35.751129  148.380005  25409.359375  6580.600098  2954.219971\n2020-03-02  35.293381  157.550003  25864.779297  6462.600098  2972.370117\n2020-03-09  29.018581  143.279999  23185.619141  5366.100098  2711.020020\n2020-03-16  25.261328  140.110001  19173.980469  5190.799805  2304.919922",
      "text/html": "<div>\n<style scoped>\n    .dataframe tbody tr th:only-of-type {\n        vertical-align: middle;\n    }\n\n    .dataframe tbody tr th {\n        vertical-align: top;\n    }\n\n    .dataframe thead th {\n        text-align: right;\n    }\n</style>\n<table border=\"1\" class=\"dataframe\">\n  <thead>\n    <tr style=\"text-align: right;\">\n      <th></th>\n      <th>EZU</th>\n      <th>GLD</th>\n      <th>^DJI</th>\n      <th>^FTSE</th>\n      <th>^GSPC</th>\n    </tr>\n    <tr>\n      <th>Date</th>\n      <th></th>\n      <th></th>\n      <th></th>\n      <th></th>\n      <th></th>\n    </tr>\n  </thead>\n  <tbody>\n    <tr>\n      <th>2020-01-27</th>\n      <td>38.602436</td>\n      <td>149.330002</td>\n      <td>28256.029297</td>\n      <td>7286.000000</td>\n      <td>3225.520020</td>\n    </tr>\n    <tr>\n      <th>2020-02-03</th>\n      <td>39.699097</td>\n      <td>147.789993</td>\n      <td>29102.509766</td>\n      <td>7466.700195</td>\n      <td>3327.709961</td>\n    </tr>\n    <tr>\n      <th>2020-02-10</th>\n      <td>39.994717</td>\n      <td>149.000000</td>\n      <td>29398.080078</td>\n      <td>7409.100098</td>\n      <td>3380.159912</td>\n    </tr>\n    <tr>\n      <th>2020-02-17</th>\n      <td>39.584667</td>\n      <td>154.699997</td>\n      <td>28992.410156</td>\n      <td>7403.899902</td>\n      <td>3337.750000</td>\n    </tr>\n    <tr>\n      <th>2020-02-24</th>\n      <td>35.751129</td>\n      <td>148.380005</td>\n      <td>25409.359375</td>\n      <td>6580.600098</td>\n      <td>2954.219971</td>\n    </tr>\n    <tr>\n      <th>2020-03-02</th>\n      <td>35.293381</td>\n      <td>157.550003</td>\n      <td>25864.779297</td>\n      <td>6462.600098</td>\n      <td>2972.370117</td>\n    </tr>\n    <tr>\n      <th>2020-03-09</th>\n      <td>29.018581</td>\n      <td>143.279999</td>\n      <td>23185.619141</td>\n      <td>5366.100098</td>\n      <td>2711.020020</td>\n    </tr>\n    <tr>\n      <th>2020-03-16</th>\n      <td>25.261328</td>\n      <td>140.110001</td>\n      <td>19173.980469</td>\n      <td>5190.799805</td>\n      <td>2304.919922</td>\n    </tr>\n  </tbody>\n</table>\n</div>"
     },
     "execution_count": 486,
     "metadata": {},
     "output_type": "execute_result"
    }
   ],
   "source": [
    "\n",
    "ticker_list = ['^DJI', '^GSPC', '^FTSE', 'EZU', 'GLD']\n",
    "model1 = yf.download(ticker_list, start=\"2020-01-27\", end=\"2020-03-23\", interval=\"1wk\")['Adj Close']\n",
    "model1"
   ],
   "metadata": {
    "collapsed": false,
    "pycharm": {
     "name": "#%%\n"
    }
   }
  },
  {
   "cell_type": "markdown",
   "source": [
    "#### 2. Model 2\n",
    "Download weekly price of the stock indices [Jan-2015, Dec-2019]:\n",
    "    - US: Dow Jones Industrial `^DJI`, S&P500 `^GSPC`\n",
    "    - UK: FTSE100 `^FTSE`\n",
    "    - Europe: MSCI Eurozone `EZU`\n",
    "    - Gold `GLD`"
   ],
   "metadata": {
    "collapsed": false
   }
  },
  {
   "cell_type": "code",
   "execution_count": 432,
   "outputs": [
    {
     "name": "stdout",
     "output_type": "stream",
     "text": [
      "[*********************100%***********************]  5 of 5 completed\n"
     ]
    },
    {
     "data": {
      "text/plain": "                  EZU         GLD          ^DJI        ^FTSE        ^GSPC\nDate                                                                     \n2014-12-29  30.436686  114.080002  17832.990234  6547.799805  2058.199951\n2015-01-05  29.382236  117.260002  17737.369141  6501.100098  2044.810059\n2015-01-12  30.177259  122.519997  17511.570312  6550.299805  2019.420044\n2015-01-19  30.587320  124.230003  17672.599609  6832.799805  2051.820068\n2015-01-26  30.696110  123.449997  17164.949219  6749.399902  1994.989990\n...               ...         ...           ...          ...          ...\n2022-01-03  49.369999  167.750000  36231.660156  7485.299805  4677.029785\n2022-01-10  49.369999  169.669998  35911.808594  7543.000000  4662.850098\n2022-01-17  47.590000  171.089996  34265.371094  7494.100098  4397.939941\n2022-01-24  46.389999  172.580002  34297.730469  7371.500000  4356.450195\n2022-01-26  47.290001  171.460007  34793.781250  7513.439941  4440.580078\n\n[371 rows x 5 columns]",
      "text/html": "<div>\n<style scoped>\n    .dataframe tbody tr th:only-of-type {\n        vertical-align: middle;\n    }\n\n    .dataframe tbody tr th {\n        vertical-align: top;\n    }\n\n    .dataframe thead th {\n        text-align: right;\n    }\n</style>\n<table border=\"1\" class=\"dataframe\">\n  <thead>\n    <tr style=\"text-align: right;\">\n      <th></th>\n      <th>EZU</th>\n      <th>GLD</th>\n      <th>^DJI</th>\n      <th>^FTSE</th>\n      <th>^GSPC</th>\n    </tr>\n    <tr>\n      <th>Date</th>\n      <th></th>\n      <th></th>\n      <th></th>\n      <th></th>\n      <th></th>\n    </tr>\n  </thead>\n  <tbody>\n    <tr>\n      <th>2014-12-29</th>\n      <td>30.436686</td>\n      <td>114.080002</td>\n      <td>17832.990234</td>\n      <td>6547.799805</td>\n      <td>2058.199951</td>\n    </tr>\n    <tr>\n      <th>2015-01-05</th>\n      <td>29.382236</td>\n      <td>117.260002</td>\n      <td>17737.369141</td>\n      <td>6501.100098</td>\n      <td>2044.810059</td>\n    </tr>\n    <tr>\n      <th>2015-01-12</th>\n      <td>30.177259</td>\n      <td>122.519997</td>\n      <td>17511.570312</td>\n      <td>6550.299805</td>\n      <td>2019.420044</td>\n    </tr>\n    <tr>\n      <th>2015-01-19</th>\n      <td>30.587320</td>\n      <td>124.230003</td>\n      <td>17672.599609</td>\n      <td>6832.799805</td>\n      <td>2051.820068</td>\n    </tr>\n    <tr>\n      <th>2015-01-26</th>\n      <td>30.696110</td>\n      <td>123.449997</td>\n      <td>17164.949219</td>\n      <td>6749.399902</td>\n      <td>1994.989990</td>\n    </tr>\n    <tr>\n      <th>...</th>\n      <td>...</td>\n      <td>...</td>\n      <td>...</td>\n      <td>...</td>\n      <td>...</td>\n    </tr>\n    <tr>\n      <th>2022-01-03</th>\n      <td>49.369999</td>\n      <td>167.750000</td>\n      <td>36231.660156</td>\n      <td>7485.299805</td>\n      <td>4677.029785</td>\n    </tr>\n    <tr>\n      <th>2022-01-10</th>\n      <td>49.369999</td>\n      <td>169.669998</td>\n      <td>35911.808594</td>\n      <td>7543.000000</td>\n      <td>4662.850098</td>\n    </tr>\n    <tr>\n      <th>2022-01-17</th>\n      <td>47.590000</td>\n      <td>171.089996</td>\n      <td>34265.371094</td>\n      <td>7494.100098</td>\n      <td>4397.939941</td>\n    </tr>\n    <tr>\n      <th>2022-01-24</th>\n      <td>46.389999</td>\n      <td>172.580002</td>\n      <td>34297.730469</td>\n      <td>7371.500000</td>\n      <td>4356.450195</td>\n    </tr>\n    <tr>\n      <th>2022-01-26</th>\n      <td>47.290001</td>\n      <td>171.460007</td>\n      <td>34793.781250</td>\n      <td>7513.439941</td>\n      <td>4440.580078</td>\n    </tr>\n  </tbody>\n</table>\n<p>371 rows × 5 columns</p>\n</div>"
     },
     "execution_count": 432,
     "metadata": {},
     "output_type": "execute_result"
    }
   ],
   "source": [
    "model2 = yf.download(ticker_list, period=\"5y\", start=\"2015-01-01\", interval=\"1wk\")['Adj Close']\n",
    "model2.dropna(inplace=True)\n",
    "model2"
   ],
   "metadata": {
    "collapsed": false,
    "pycharm": {
     "name": "#%%\n"
    }
   }
  },
  {
   "cell_type": "markdown",
   "source": [
    "#### 3. Calculate expected annual returns and covariance matrix.\n",
    "\n",
    "In order to calculate the returns of a certain stock we will use the adjusted close price of each period.\n",
    "Annual (total) returns: $ R_a = \\frac{R_n - R_0}{R_0}$"
   ],
   "metadata": {
    "collapsed": false
   }
  },
  {
   "cell_type": "code",
   "execution_count": 492,
   "outputs": [],
   "source": [
    "def annual_return(time_series):\n",
    "    return (time_series[-1]-time_series[0])/time_series[0]\n",
    "\n",
    "def clear_model(model):\n",
    "    model_clear = model\n",
    "    if type(model.index) is not pd.MultiIndex:\n",
    "        model_clear.index = pd.MultiIndex.from_tuples(zip(model.index.year,model.index),names=['Year','Date'])\n",
    "    # model_clear.columns = model_clear.columns.droplevel(1)\n",
    "    return model_clear\n",
    "\n",
    "def get_returns(model):\n",
    "    returns = model.groupby('Year').count()\n",
    "    for ticker in model:\n",
    "        for year in returns.index:\n",
    "            returns.loc[year,ticker] = annual_return(model.loc[year,ticker])\n",
    "    return returns\n",
    "\n",
    "def get_returns_adjusted(model):\n",
    "    returns = model.groupby('Year').count()\n",
    "    for ticker in model:\n",
    "        for year in returns.index:\n",
    "            if year-1 in returns.index:\n",
    "                prev_close = model.loc[year-1,ticker].iloc[-1:]\n",
    "                annual_series = prev_close.iloc[-1:].append(model.loc[year,ticker])\n",
    "                returns.loc[year,ticker] = annual_return(annual_series)\n",
    "            else:\n",
    "                returns.loc[year,ticker] = annual_return(model.loc[year,ticker])\n",
    "    return returns\n"
   ],
   "metadata": {
    "collapsed": false,
    "pycharm": {
     "name": "#%%\n"
    }
   }
  },
  {
   "cell_type": "markdown",
   "source": [
    "Annual Returns:"
   ],
   "metadata": {
    "collapsed": false
   }
  },
  {
   "cell_type": "code",
   "execution_count": 502,
   "outputs": [
    {
     "data": {
      "text/plain": "           EZU       GLD     ^DJI     ^FTSE     ^GSPC\nYear                                                 \n2020 -0.345603 -0.061742 -0.32142 -0.287565 -0.285411",
      "text/html": "<div>\n<style scoped>\n    .dataframe tbody tr th:only-of-type {\n        vertical-align: middle;\n    }\n\n    .dataframe tbody tr th {\n        vertical-align: top;\n    }\n\n    .dataframe thead th {\n        text-align: right;\n    }\n</style>\n<table border=\"1\" class=\"dataframe\">\n  <thead>\n    <tr style=\"text-align: right;\">\n      <th></th>\n      <th>EZU</th>\n      <th>GLD</th>\n      <th>^DJI</th>\n      <th>^FTSE</th>\n      <th>^GSPC</th>\n    </tr>\n    <tr>\n      <th>Year</th>\n      <th></th>\n      <th></th>\n      <th></th>\n      <th></th>\n      <th></th>\n    </tr>\n  </thead>\n  <tbody>\n    <tr>\n      <th>2020</th>\n      <td>-0.345603</td>\n      <td>-0.061742</td>\n      <td>-0.32142</td>\n      <td>-0.287565</td>\n      <td>-0.285411</td>\n    </tr>\n  </tbody>\n</table>\n</div>"
     },
     "metadata": {},
     "output_type": "display_data"
    },
    {
     "data": {
      "text/plain": "           EZU       GLD      ^DJI     ^FTSE     ^GSPC\nYear                                                  \n2014  0.000000  0.000000  0.000000  0.000000  0.000000\n2015 -0.017495 -0.110624 -0.022877 -0.046657 -0.006928\n2016  0.018633  0.080327  0.134150  0.144258  0.095350\n2017  0.278902  0.128091  0.250808  0.076301  0.194200\n2018 -0.155695 -0.017873 -0.052027 -0.110617 -0.052988\n2019  0.213051  0.201087  0.221981  0.114810  0.277617\n2020  0.078226  0.222816  0.068853 -0.152432  0.161126\n2021  0.136426 -0.041489  0.187275  0.143023  0.268927\n2022 -0.032719  0.002925 -0.042504  0.017461 -0.068315",
      "text/html": "<div>\n<style scoped>\n    .dataframe tbody tr th:only-of-type {\n        vertical-align: middle;\n    }\n\n    .dataframe tbody tr th {\n        vertical-align: top;\n    }\n\n    .dataframe thead th {\n        text-align: right;\n    }\n</style>\n<table border=\"1\" class=\"dataframe\">\n  <thead>\n    <tr style=\"text-align: right;\">\n      <th></th>\n      <th>EZU</th>\n      <th>GLD</th>\n      <th>^DJI</th>\n      <th>^FTSE</th>\n      <th>^GSPC</th>\n    </tr>\n    <tr>\n      <th>Year</th>\n      <th></th>\n      <th></th>\n      <th></th>\n      <th></th>\n      <th></th>\n    </tr>\n  </thead>\n  <tbody>\n    <tr>\n      <th>2014</th>\n      <td>0.000000</td>\n      <td>0.000000</td>\n      <td>0.000000</td>\n      <td>0.000000</td>\n      <td>0.000000</td>\n    </tr>\n    <tr>\n      <th>2015</th>\n      <td>-0.017495</td>\n      <td>-0.110624</td>\n      <td>-0.022877</td>\n      <td>-0.046657</td>\n      <td>-0.006928</td>\n    </tr>\n    <tr>\n      <th>2016</th>\n      <td>0.018633</td>\n      <td>0.080327</td>\n      <td>0.134150</td>\n      <td>0.144258</td>\n      <td>0.095350</td>\n    </tr>\n    <tr>\n      <th>2017</th>\n      <td>0.278902</td>\n      <td>0.128091</td>\n      <td>0.250808</td>\n      <td>0.076301</td>\n      <td>0.194200</td>\n    </tr>\n    <tr>\n      <th>2018</th>\n      <td>-0.155695</td>\n      <td>-0.017873</td>\n      <td>-0.052027</td>\n      <td>-0.110617</td>\n      <td>-0.052988</td>\n    </tr>\n    <tr>\n      <th>2019</th>\n      <td>0.213051</td>\n      <td>0.201087</td>\n      <td>0.221981</td>\n      <td>0.114810</td>\n      <td>0.277617</td>\n    </tr>\n    <tr>\n      <th>2020</th>\n      <td>0.078226</td>\n      <td>0.222816</td>\n      <td>0.068853</td>\n      <td>-0.152432</td>\n      <td>0.161126</td>\n    </tr>\n    <tr>\n      <th>2021</th>\n      <td>0.136426</td>\n      <td>-0.041489</td>\n      <td>0.187275</td>\n      <td>0.143023</td>\n      <td>0.268927</td>\n    </tr>\n    <tr>\n      <th>2022</th>\n      <td>-0.032719</td>\n      <td>0.002925</td>\n      <td>-0.042504</td>\n      <td>0.017461</td>\n      <td>-0.068315</td>\n    </tr>\n  </tbody>\n</table>\n</div>"
     },
     "metadata": {},
     "output_type": "display_data"
    }
   ],
   "source": [
    "models = [model1, model2]\n",
    "\n",
    "for model in models:\n",
    "    model_clear = clear_model(model)\n",
    "    display(get_returns_adjusted(model_clear))\n",
    "    # display(get_returns_adjusted(model_clear))"
   ],
   "metadata": {
    "collapsed": false,
    "pycharm": {
     "name": "#%%\n"
    }
   }
  },
  {
   "cell_type": "markdown",
   "source": [
    "Log returns and annual covariance matrix:"
   ],
   "metadata": {
    "collapsed": false
   }
  },
  {
   "cell_type": "code",
   "execution_count": 509,
   "outputs": [
    {
     "data": {
      "text/plain": "            EZU       GLD      ^DJI     ^FTSE     ^GSPC\nEZU    0.007225  0.003448  0.006419  0.005557  0.005606\nGLD    0.003448  0.002642  0.002821  0.003133  0.002350\n^DJI   0.006419  0.002821  0.007576  0.003957  0.006624\n^FTSE  0.005557  0.003133  0.003957  0.005689  0.003526\n^GSPC  0.005606  0.002350  0.006624  0.003526  0.005831",
      "text/html": "<div>\n<style scoped>\n    .dataframe tbody tr th:only-of-type {\n        vertical-align: middle;\n    }\n\n    .dataframe tbody tr th {\n        vertical-align: top;\n    }\n\n    .dataframe thead th {\n        text-align: right;\n    }\n</style>\n<table border=\"1\" class=\"dataframe\">\n  <thead>\n    <tr style=\"text-align: right;\">\n      <th></th>\n      <th>EZU</th>\n      <th>GLD</th>\n      <th>^DJI</th>\n      <th>^FTSE</th>\n      <th>^GSPC</th>\n    </tr>\n  </thead>\n  <tbody>\n    <tr>\n      <th>EZU</th>\n      <td>0.007225</td>\n      <td>0.003448</td>\n      <td>0.006419</td>\n      <td>0.005557</td>\n      <td>0.005606</td>\n    </tr>\n    <tr>\n      <th>GLD</th>\n      <td>0.003448</td>\n      <td>0.002642</td>\n      <td>0.002821</td>\n      <td>0.003133</td>\n      <td>0.002350</td>\n    </tr>\n    <tr>\n      <th>^DJI</th>\n      <td>0.006419</td>\n      <td>0.002821</td>\n      <td>0.007576</td>\n      <td>0.003957</td>\n      <td>0.006624</td>\n    </tr>\n    <tr>\n      <th>^FTSE</th>\n      <td>0.005557</td>\n      <td>0.003133</td>\n      <td>0.003957</td>\n      <td>0.005689</td>\n      <td>0.003526</td>\n    </tr>\n    <tr>\n      <th>^GSPC</th>\n      <td>0.005606</td>\n      <td>0.002350</td>\n      <td>0.006624</td>\n      <td>0.003526</td>\n      <td>0.005831</td>\n    </tr>\n  </tbody>\n</table>\n</div>"
     },
     "execution_count": 509,
     "metadata": {},
     "output_type": "execute_result"
    }
   ],
   "source": [
    "model1_log = np.log(model1).diff().dropna()  # weekly log returns\n",
    "cov_matrix1 = model1_log.cov()\n",
    "cov_matrix1"
   ],
   "metadata": {
    "collapsed": false,
    "pycharm": {
     "name": "#%%\n"
    }
   }
  },
  {
   "cell_type": "code",
   "execution_count": 510,
   "outputs": [
    {
     "data": {
      "text/plain": "            EZU       GLD      ^DJI     ^FTSE     ^GSPC\nEZU    0.000818  0.000095  0.000593  0.000504  0.000551\nGLD    0.000095  0.000379  0.000064  0.000049  0.000061\n^DJI   0.000593  0.000064  0.000630  0.000413  0.000573\n^FTSE  0.000504  0.000049  0.000413  0.000518  0.000382\n^GSPC  0.000551  0.000061  0.000573  0.000382  0.000554",
      "text/html": "<div>\n<style scoped>\n    .dataframe tbody tr th:only-of-type {\n        vertical-align: middle;\n    }\n\n    .dataframe tbody tr th {\n        vertical-align: top;\n    }\n\n    .dataframe thead th {\n        text-align: right;\n    }\n</style>\n<table border=\"1\" class=\"dataframe\">\n  <thead>\n    <tr style=\"text-align: right;\">\n      <th></th>\n      <th>EZU</th>\n      <th>GLD</th>\n      <th>^DJI</th>\n      <th>^FTSE</th>\n      <th>^GSPC</th>\n    </tr>\n  </thead>\n  <tbody>\n    <tr>\n      <th>EZU</th>\n      <td>0.000818</td>\n      <td>0.000095</td>\n      <td>0.000593</td>\n      <td>0.000504</td>\n      <td>0.000551</td>\n    </tr>\n    <tr>\n      <th>GLD</th>\n      <td>0.000095</td>\n      <td>0.000379</td>\n      <td>0.000064</td>\n      <td>0.000049</td>\n      <td>0.000061</td>\n    </tr>\n    <tr>\n      <th>^DJI</th>\n      <td>0.000593</td>\n      <td>0.000064</td>\n      <td>0.000630</td>\n      <td>0.000413</td>\n      <td>0.000573</td>\n    </tr>\n    <tr>\n      <th>^FTSE</th>\n      <td>0.000504</td>\n      <td>0.000049</td>\n      <td>0.000413</td>\n      <td>0.000518</td>\n      <td>0.000382</td>\n    </tr>\n    <tr>\n      <th>^GSPC</th>\n      <td>0.000551</td>\n      <td>0.000061</td>\n      <td>0.000573</td>\n      <td>0.000382</td>\n      <td>0.000554</td>\n    </tr>\n  </tbody>\n</table>\n</div>"
     },
     "execution_count": 510,
     "metadata": {},
     "output_type": "execute_result"
    }
   ],
   "source": [
    "model2_log = np.log(model2).diff().dropna()  # weekly log returns\n",
    "cov_matrix2 = model2_log.cov()\n",
    "cov_matrix2"
   ],
   "metadata": {
    "collapsed": false,
    "pycharm": {
     "name": "#%%\n"
    }
   }
  },
  {
   "cell_type": "markdown",
   "source": [
    "#### 4. Optimal portfolio in each case\n",
    "\n",
    "use 3 month tbl"
   ],
   "metadata": {
    "collapsed": false
   }
  },
  {
   "cell_type": "markdown",
   "source": [
    "#### 5. Which model is correct. Why?"
   ],
   "metadata": {
    "collapsed": false
   }
  }
 ],
 "metadata": {
  "kernelspec": {
   "display_name": "Python 3",
   "language": "python",
   "name": "python3"
  },
  "language_info": {
   "codemirror_mode": {
    "name": "ipython",
    "version": 2
   },
   "file_extension": ".py",
   "mimetype": "text/x-python",
   "name": "python",
   "nbconvert_exporter": "python",
   "pygments_lexer": "ipython2",
   "version": "2.7.6"
  }
 },
 "nbformat": 4,
 "nbformat_minor": 0
}