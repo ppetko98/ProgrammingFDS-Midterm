{
 "cells": [
  {
   "cell_type": "markdown",
   "metadata": {
    "collapsed": true,
    "pycharm": {
     "name": "#%% md\n"
    }
   },
   "source": [
    "# Efficient Portfolios\n",
    "###### Petko Vladimirov Stoyanov - 21208084 - UCD Michael Smurfit Business School"
   ]
  },
  {
   "cell_type": "markdown",
   "metadata": {
    "pycharm": {
     "name": "#%% md\n"
    }
   },
   "source": [
    "## Exercise 1 - 40 marks\n",
    "Analyse two models for the input of historical data."
   ]
  },
  {
   "cell_type": "markdown",
   "metadata": {
    "pycharm": {
     "name": "#%% md\n"
    }
   },
   "source": [
    "### Model 1\n",
    "Download weekly price of the stock indices [27-Jan-2020, 23-Mar-2020] (9 prices, 8 returns):\n",
    "\n",
    "   - US: Dow Jones Industrial `^DJI`, S&P500 `^GSPC`\n",
    "   - UK: FTSE100 `^FTSE`\n",
    "   - Europe: MSCI Eurozone `EZU`\n",
    "   - Gold `GLD`"
   ]
  },
  {
   "cell_type": "code",
   "execution_count": 3,
   "metadata": {
    "pycharm": {
     "name": "#%%\n"
    }
   },
   "outputs": [],
   "source": [
    "import yfinance as yf\n",
    "import pandas as pd\n",
    "import numpy as np\n",
    "import matplotlib.pyplot as plt\n",
    "import warnings\n",
    "import scipy.optimize as sco\n",
    "\n",
    "warnings.filterwarnings('ignore')"
   ]
  },
  {
   "cell_type": "code",
   "execution_count": 4,
   "metadata": {
    "pycharm": {
     "name": "#%%\n"
    }
   },
   "outputs": [
    {
     "name": "stdout",
     "output_type": "stream",
     "text": [
      "[*********************100%***********************]  5 of 5 completed\n"
     ]
    },
    {
     "data": {
      "text/plain": "                  EZU         GLD          ^DJI        ^FTSE        ^GSPC\nDate                                                                     \n2020-01-27  38.602440  149.330002  28256.029297  7286.000000  3225.520020\n2020-02-03  39.699100  147.789993  29102.509766  7466.700195  3327.709961\n2020-02-10  39.994720  149.000000  29398.080078  7409.100098  3380.159912\n2020-02-17  39.584660  154.699997  28992.410156  7403.899902  3337.750000\n2020-02-24  35.751118  148.380005  25409.359375  6580.600098  2954.219971\n2020-03-02  35.293381  157.550003  25864.779297  6462.600098  2972.370117\n2020-03-09  29.018583  143.279999  23185.619141  5366.100098  2711.020020\n2020-03-16  25.261330  140.110001  19173.980469  5190.799805  2304.919922",
      "text/html": "<div>\n<style scoped>\n    .dataframe tbody tr th:only-of-type {\n        vertical-align: middle;\n    }\n\n    .dataframe tbody tr th {\n        vertical-align: top;\n    }\n\n    .dataframe thead th {\n        text-align: right;\n    }\n</style>\n<table border=\"1\" class=\"dataframe\">\n  <thead>\n    <tr style=\"text-align: right;\">\n      <th></th>\n      <th>EZU</th>\n      <th>GLD</th>\n      <th>^DJI</th>\n      <th>^FTSE</th>\n      <th>^GSPC</th>\n    </tr>\n    <tr>\n      <th>Date</th>\n      <th></th>\n      <th></th>\n      <th></th>\n      <th></th>\n      <th></th>\n    </tr>\n  </thead>\n  <tbody>\n    <tr>\n      <th>2020-01-27</th>\n      <td>38.602440</td>\n      <td>149.330002</td>\n      <td>28256.029297</td>\n      <td>7286.000000</td>\n      <td>3225.520020</td>\n    </tr>\n    <tr>\n      <th>2020-02-03</th>\n      <td>39.699100</td>\n      <td>147.789993</td>\n      <td>29102.509766</td>\n      <td>7466.700195</td>\n      <td>3327.709961</td>\n    </tr>\n    <tr>\n      <th>2020-02-10</th>\n      <td>39.994720</td>\n      <td>149.000000</td>\n      <td>29398.080078</td>\n      <td>7409.100098</td>\n      <td>3380.159912</td>\n    </tr>\n    <tr>\n      <th>2020-02-17</th>\n      <td>39.584660</td>\n      <td>154.699997</td>\n      <td>28992.410156</td>\n      <td>7403.899902</td>\n      <td>3337.750000</td>\n    </tr>\n    <tr>\n      <th>2020-02-24</th>\n      <td>35.751118</td>\n      <td>148.380005</td>\n      <td>25409.359375</td>\n      <td>6580.600098</td>\n      <td>2954.219971</td>\n    </tr>\n    <tr>\n      <th>2020-03-02</th>\n      <td>35.293381</td>\n      <td>157.550003</td>\n      <td>25864.779297</td>\n      <td>6462.600098</td>\n      <td>2972.370117</td>\n    </tr>\n    <tr>\n      <th>2020-03-09</th>\n      <td>29.018583</td>\n      <td>143.279999</td>\n      <td>23185.619141</td>\n      <td>5366.100098</td>\n      <td>2711.020020</td>\n    </tr>\n    <tr>\n      <th>2020-03-16</th>\n      <td>25.261330</td>\n      <td>140.110001</td>\n      <td>19173.980469</td>\n      <td>5190.799805</td>\n      <td>2304.919922</td>\n    </tr>\n  </tbody>\n</table>\n</div>"
     },
     "execution_count": 4,
     "metadata": {},
     "output_type": "execute_result"
    }
   ],
   "source": [
    "\n",
    "ticker_list = ['^DJI', '^GSPC', '^FTSE', 'EZU', 'GLD']\n",
    "model1 = yf.download(ticker_list, start=\"2020-01-27\", end=\"2020-03-23\", interval=\"1wk\")['Adj Close']\n",
    "model1"
   ]
  },
  {
   "cell_type": "markdown",
   "metadata": {},
   "source": [
    "### Model 2\n",
    "Download weekly price of the stock indices [Jan-2015, Dec-2019]:\n",
    "\n",
    "   - US: Dow Jones Industrial `^DJI`, S&P500 `^GSPC`\n",
    "   - UK: FTSE100 `^FTSE`\n",
    "   - Europe: MSCI Eurozone `EZU`\n",
    "   - Gold `GLD`"
   ]
  },
  {
   "cell_type": "code",
   "execution_count": 5,
   "metadata": {
    "pycharm": {
     "name": "#%%\n"
    }
   },
   "outputs": [
    {
     "name": "stdout",
     "output_type": "stream",
     "text": [
      "[*********************100%***********************]  5 of 5 completed\n"
     ]
    },
    {
     "data": {
      "text/plain": "                  EZU         GLD          ^DJI        ^FTSE        ^GSPC\nDate                                                                     \n2014-12-29  30.436684  114.080002  17832.990234  6547.799805  2058.199951\n2015-01-05  29.382240  117.260002  17737.369141  6501.100098  2044.810059\n2015-01-12  30.177261  122.519997  17511.570312  6550.299805  2019.420044\n2015-01-19  30.587322  124.230003  17672.599609  6832.799805  2051.820068\n2015-01-26  30.696114  123.449997  17164.949219  6749.399902  1994.989990\n...               ...         ...           ...          ...          ...\n2022-01-24  46.599998  167.100006  34725.468750  7466.100098  4431.850098\n2022-01-31  47.500000  168.860001  35089.738281  7516.399902  4500.529785\n2022-02-07  46.570000  173.809998  34738.058594  7661.000000  4418.640137\n2022-02-14  47.570000  174.860001  34934.269531  7603.799805  4475.009766\n2022-02-16  47.570000  174.860001  34934.269531  7603.779785  4475.009766\n\n[374 rows x 5 columns]",
      "text/html": "<div>\n<style scoped>\n    .dataframe tbody tr th:only-of-type {\n        vertical-align: middle;\n    }\n\n    .dataframe tbody tr th {\n        vertical-align: top;\n    }\n\n    .dataframe thead th {\n        text-align: right;\n    }\n</style>\n<table border=\"1\" class=\"dataframe\">\n  <thead>\n    <tr style=\"text-align: right;\">\n      <th></th>\n      <th>EZU</th>\n      <th>GLD</th>\n      <th>^DJI</th>\n      <th>^FTSE</th>\n      <th>^GSPC</th>\n    </tr>\n    <tr>\n      <th>Date</th>\n      <th></th>\n      <th></th>\n      <th></th>\n      <th></th>\n      <th></th>\n    </tr>\n  </thead>\n  <tbody>\n    <tr>\n      <th>2014-12-29</th>\n      <td>30.436684</td>\n      <td>114.080002</td>\n      <td>17832.990234</td>\n      <td>6547.799805</td>\n      <td>2058.199951</td>\n    </tr>\n    <tr>\n      <th>2015-01-05</th>\n      <td>29.382240</td>\n      <td>117.260002</td>\n      <td>17737.369141</td>\n      <td>6501.100098</td>\n      <td>2044.810059</td>\n    </tr>\n    <tr>\n      <th>2015-01-12</th>\n      <td>30.177261</td>\n      <td>122.519997</td>\n      <td>17511.570312</td>\n      <td>6550.299805</td>\n      <td>2019.420044</td>\n    </tr>\n    <tr>\n      <th>2015-01-19</th>\n      <td>30.587322</td>\n      <td>124.230003</td>\n      <td>17672.599609</td>\n      <td>6832.799805</td>\n      <td>2051.820068</td>\n    </tr>\n    <tr>\n      <th>2015-01-26</th>\n      <td>30.696114</td>\n      <td>123.449997</td>\n      <td>17164.949219</td>\n      <td>6749.399902</td>\n      <td>1994.989990</td>\n    </tr>\n    <tr>\n      <th>...</th>\n      <td>...</td>\n      <td>...</td>\n      <td>...</td>\n      <td>...</td>\n      <td>...</td>\n    </tr>\n    <tr>\n      <th>2022-01-24</th>\n      <td>46.599998</td>\n      <td>167.100006</td>\n      <td>34725.468750</td>\n      <td>7466.100098</td>\n      <td>4431.850098</td>\n    </tr>\n    <tr>\n      <th>2022-01-31</th>\n      <td>47.500000</td>\n      <td>168.860001</td>\n      <td>35089.738281</td>\n      <td>7516.399902</td>\n      <td>4500.529785</td>\n    </tr>\n    <tr>\n      <th>2022-02-07</th>\n      <td>46.570000</td>\n      <td>173.809998</td>\n      <td>34738.058594</td>\n      <td>7661.000000</td>\n      <td>4418.640137</td>\n    </tr>\n    <tr>\n      <th>2022-02-14</th>\n      <td>47.570000</td>\n      <td>174.860001</td>\n      <td>34934.269531</td>\n      <td>7603.799805</td>\n      <td>4475.009766</td>\n    </tr>\n    <tr>\n      <th>2022-02-16</th>\n      <td>47.570000</td>\n      <td>174.860001</td>\n      <td>34934.269531</td>\n      <td>7603.779785</td>\n      <td>4475.009766</td>\n    </tr>\n  </tbody>\n</table>\n<p>374 rows × 5 columns</p>\n</div>"
     },
     "execution_count": 5,
     "metadata": {},
     "output_type": "execute_result"
    }
   ],
   "source": [
    "model2 = yf.download(ticker_list, period=\"5y\", start=\"2015-01-01\", interval=\"1wk\")['Adj Close']\n",
    "model2.dropna(inplace=True)\n",
    "model2"
   ]
  },
  {
   "cell_type": "markdown",
   "metadata": {},
   "source": [
    "### Calculate expected annual returns and covariance matrix.\n",
    "\n",
    "In order to calculate the returns of a certain stock we will use the adjusted close price of each period.\n",
    "Annual (total) returns: $R_a = \\frac{R_n - R_0}{R_0}$"
   ]
  },
  {
   "cell_type": "code",
   "execution_count": 6,
   "metadata": {
    "pycharm": {
     "name": "#%%\n"
    }
   },
   "outputs": [],
   "source": [
    "def annual_return(time_series):\n",
    "    return (time_series[-1]-time_series[0])/time_series[0]\n",
    "\n",
    "def get_log_return(time_series):\n",
    "    return np.log(1+time_series.pct_change())\n",
    "\n",
    "def clear_model(model):\n",
    "    model_clear = model\n",
    "    if type(model.index) is not pd.MultiIndex:\n",
    "        model_clear.index = pd.MultiIndex.from_tuples(zip(model.index.year,model.index),names=['Year','Date'])\n",
    "    # model_clear.columns = model_clear.columns.droplevel(1)\n",
    "    return model_clear\n",
    "\n",
    "def get_returns(model):\n",
    "    returns = model.groupby('Year').count()\n",
    "    for ticker in model:\n",
    "        for year in returns.index:\n",
    "            returns.loc[year,ticker] = annual_return(model.loc[year,ticker])\n",
    "    return returns\n",
    "\n",
    "def get_returns_adjusted(model):\n",
    "    '''\n",
    "    Returns two dataframes with the annual returns and the mean of log returns\n",
    "        adjusted for the last period price when available\n",
    "    '''\n",
    "    returns = model.groupby('Year').count()\n",
    "    log_returns = model.groupby('Year').count()\n",
    "    for ticker in model:\n",
    "        for year in returns.index:\n",
    "            if year-1 in returns.index:\n",
    "                prev_close = model.loc[year-1,ticker].iloc[-1:]\n",
    "                annual_series = prev_close.iloc[-1:].append(model.loc[year,ticker])\n",
    "                returns.loc[year,ticker] = annual_return(annual_series)\n",
    "                log_returns.loc[year,ticker] = get_log_return(annual_series).mean()\n",
    "            else:\n",
    "                returns.loc[year,ticker] = annual_return(model.loc[year,ticker])\n",
    "                log_returns.loc[year,ticker] = get_log_return(model.loc[year,ticker]).mean()\n",
    "\n",
    "    return returns, log_returns"
   ]
  },
  {
   "cell_type": "markdown",
   "metadata": {},
   "source": [
    "Annual Returns and Expected annual returns:"
   ]
  },
  {
   "cell_type": "code",
   "execution_count": 7,
   "metadata": {
    "pycharm": {
     "name": "#%%\n"
    }
   },
   "outputs": [
    {
     "name": "stdout",
     "output_type": "stream",
     "text": [
      "model 1 Annual returns:\n"
     ]
    },
    {
     "data": {
      "text/plain": "           EZU       GLD     ^DJI     ^FTSE     ^GSPC\nYear                                                 \n2020 -0.345603 -0.061742 -0.32142 -0.287565 -0.285411",
      "text/html": "<div>\n<style scoped>\n    .dataframe tbody tr th:only-of-type {\n        vertical-align: middle;\n    }\n\n    .dataframe tbody tr th {\n        vertical-align: top;\n    }\n\n    .dataframe thead th {\n        text-align: right;\n    }\n</style>\n<table border=\"1\" class=\"dataframe\">\n  <thead>\n    <tr style=\"text-align: right;\">\n      <th></th>\n      <th>EZU</th>\n      <th>GLD</th>\n      <th>^DJI</th>\n      <th>^FTSE</th>\n      <th>^GSPC</th>\n    </tr>\n    <tr>\n      <th>Year</th>\n      <th></th>\n      <th></th>\n      <th></th>\n      <th></th>\n      <th></th>\n    </tr>\n  </thead>\n  <tbody>\n    <tr>\n      <th>2020</th>\n      <td>-0.345603</td>\n      <td>-0.061742</td>\n      <td>-0.32142</td>\n      <td>-0.287565</td>\n      <td>-0.285411</td>\n    </tr>\n  </tbody>\n</table>\n</div>"
     },
     "metadata": {},
     "output_type": "display_data"
    },
    {
     "name": "stdout",
     "output_type": "stream",
     "text": [
      "model 1 Expected annual returns (mean of log returns):\n"
     ]
    },
    {
     "data": {
      "text/plain": "EZU     -0.060577\nGLD     -0.009104\n^DJI    -0.055393\n^FTSE   -0.048438\n^GSPC   -0.048007\ndtype: float64"
     },
     "metadata": {},
     "output_type": "display_data"
    },
    {
     "name": "stdout",
     "output_type": "stream",
     "text": [
      "model 2 Annual returns:\n"
     ]
    },
    {
     "data": {
      "text/plain": "           EZU       GLD      ^DJI     ^FTSE     ^GSPC\nYear                                                  \n2014  0.000000  0.000000  0.000000  0.000000  0.000000\n2015 -0.017495 -0.110624 -0.022877 -0.046657 -0.006928\n2016  0.018633  0.080327  0.134150  0.144258  0.095350\n2017  0.278903  0.128091  0.250808  0.076301  0.194200\n2018 -0.155695 -0.017873 -0.052027 -0.110617 -0.052988\n2019  0.213052  0.201087  0.221981  0.114810  0.277617\n2020  0.078226  0.222816  0.068853 -0.152432  0.161126\n2021  0.136426 -0.041489  0.187275  0.143023  0.268927\n2022 -0.026992  0.022812 -0.038638  0.029695 -0.061091",
      "text/html": "<div>\n<style scoped>\n    .dataframe tbody tr th:only-of-type {\n        vertical-align: middle;\n    }\n\n    .dataframe tbody tr th {\n        vertical-align: top;\n    }\n\n    .dataframe thead th {\n        text-align: right;\n    }\n</style>\n<table border=\"1\" class=\"dataframe\">\n  <thead>\n    <tr style=\"text-align: right;\">\n      <th></th>\n      <th>EZU</th>\n      <th>GLD</th>\n      <th>^DJI</th>\n      <th>^FTSE</th>\n      <th>^GSPC</th>\n    </tr>\n    <tr>\n      <th>Year</th>\n      <th></th>\n      <th></th>\n      <th></th>\n      <th></th>\n      <th></th>\n    </tr>\n  </thead>\n  <tbody>\n    <tr>\n      <th>2014</th>\n      <td>0.000000</td>\n      <td>0.000000</td>\n      <td>0.000000</td>\n      <td>0.000000</td>\n      <td>0.000000</td>\n    </tr>\n    <tr>\n      <th>2015</th>\n      <td>-0.017495</td>\n      <td>-0.110624</td>\n      <td>-0.022877</td>\n      <td>-0.046657</td>\n      <td>-0.006928</td>\n    </tr>\n    <tr>\n      <th>2016</th>\n      <td>0.018633</td>\n      <td>0.080327</td>\n      <td>0.134150</td>\n      <td>0.144258</td>\n      <td>0.095350</td>\n    </tr>\n    <tr>\n      <th>2017</th>\n      <td>0.278903</td>\n      <td>0.128091</td>\n      <td>0.250808</td>\n      <td>0.076301</td>\n      <td>0.194200</td>\n    </tr>\n    <tr>\n      <th>2018</th>\n      <td>-0.155695</td>\n      <td>-0.017873</td>\n      <td>-0.052027</td>\n      <td>-0.110617</td>\n      <td>-0.052988</td>\n    </tr>\n    <tr>\n      <th>2019</th>\n      <td>0.213052</td>\n      <td>0.201087</td>\n      <td>0.221981</td>\n      <td>0.114810</td>\n      <td>0.277617</td>\n    </tr>\n    <tr>\n      <th>2020</th>\n      <td>0.078226</td>\n      <td>0.222816</td>\n      <td>0.068853</td>\n      <td>-0.152432</td>\n      <td>0.161126</td>\n    </tr>\n    <tr>\n      <th>2021</th>\n      <td>0.136426</td>\n      <td>-0.041489</td>\n      <td>0.187275</td>\n      <td>0.143023</td>\n      <td>0.268927</td>\n    </tr>\n    <tr>\n      <th>2022</th>\n      <td>-0.026992</td>\n      <td>0.022812</td>\n      <td>-0.038638</td>\n      <td>0.029695</td>\n      <td>-0.061091</td>\n    </tr>\n  </tbody>\n</table>\n</div>"
     },
     "metadata": {},
     "output_type": "display_data"
    },
    {
     "name": "stdout",
     "output_type": "stream",
     "text": [
      "model 2 Expected annual returns (mean of log returns):\n"
     ]
    },
    {
     "data": {
      "text/plain": "EZU      0.000719\nGLD      0.001326\n^DJI     0.001098\n^FTSE    0.000752\n^GSPC    0.001036\ndtype: float64"
     },
     "metadata": {},
     "output_type": "display_data"
    }
   ],
   "source": [
    "models = {'model 1': model1, 'model 2': model2}\n",
    "expected_returns_dict = {'model 1': None, 'model 2': None}\n",
    "\n",
    "for model in models:\n",
    "    print(model, 'Annual returns:')\n",
    "    model_clear = clear_model(models[model])\n",
    "    model_returns, model_log_returns = get_returns_adjusted(model_clear)\n",
    "    display(model_returns)\n",
    "    print(model,'Expected annual returns (mean of log returns):')\n",
    "    expected_return = model_log_returns.mean().dropna()\n",
    "    expected_returns_dict[model] = expected_return\n",
    "    display(expected_return)"
   ]
  },
  {
   "cell_type": "markdown",
   "metadata": {},
   "source": [
    "Covariance matrix is calculated on the log returns matrix:"
   ]
  },
  {
   "cell_type": "code",
   "execution_count": 8,
   "metadata": {
    "pycharm": {
     "name": "#%%\n"
    }
   },
   "outputs": [
    {
     "name": "stdout",
     "output_type": "stream",
     "text": [
      "model 1 Covariance matrix:\n"
     ]
    },
    {
     "data": {
      "text/plain": "            EZU       GLD      ^DJI     ^FTSE     ^GSPC\nEZU    0.007225  0.003448  0.006419  0.005557  0.005606\nGLD    0.003448  0.002642  0.002821  0.003133  0.002350\n^DJI   0.006419  0.002821  0.007576  0.003957  0.006624\n^FTSE  0.005557  0.003133  0.003957  0.005689  0.003526\n^GSPC  0.005606  0.002350  0.006624  0.003526  0.005831",
      "text/html": "<div>\n<style scoped>\n    .dataframe tbody tr th:only-of-type {\n        vertical-align: middle;\n    }\n\n    .dataframe tbody tr th {\n        vertical-align: top;\n    }\n\n    .dataframe thead th {\n        text-align: right;\n    }\n</style>\n<table border=\"1\" class=\"dataframe\">\n  <thead>\n    <tr style=\"text-align: right;\">\n      <th></th>\n      <th>EZU</th>\n      <th>GLD</th>\n      <th>^DJI</th>\n      <th>^FTSE</th>\n      <th>^GSPC</th>\n    </tr>\n  </thead>\n  <tbody>\n    <tr>\n      <th>EZU</th>\n      <td>0.007225</td>\n      <td>0.003448</td>\n      <td>0.006419</td>\n      <td>0.005557</td>\n      <td>0.005606</td>\n    </tr>\n    <tr>\n      <th>GLD</th>\n      <td>0.003448</td>\n      <td>0.002642</td>\n      <td>0.002821</td>\n      <td>0.003133</td>\n      <td>0.002350</td>\n    </tr>\n    <tr>\n      <th>^DJI</th>\n      <td>0.006419</td>\n      <td>0.002821</td>\n      <td>0.007576</td>\n      <td>0.003957</td>\n      <td>0.006624</td>\n    </tr>\n    <tr>\n      <th>^FTSE</th>\n      <td>0.005557</td>\n      <td>0.003133</td>\n      <td>0.003957</td>\n      <td>0.005689</td>\n      <td>0.003526</td>\n    </tr>\n    <tr>\n      <th>^GSPC</th>\n      <td>0.005606</td>\n      <td>0.002350</td>\n      <td>0.006624</td>\n      <td>0.003526</td>\n      <td>0.005831</td>\n    </tr>\n  </tbody>\n</table>\n</div>"
     },
     "metadata": {},
     "output_type": "display_data"
    },
    {
     "name": "stdout",
     "output_type": "stream",
     "text": [
      "model 2 Covariance matrix:\n"
     ]
    },
    {
     "data": {
      "text/plain": "            EZU       GLD      ^DJI     ^FTSE     ^GSPC\nEZU    0.000813  0.000096  0.000588  0.000497  0.000547\nGLD    0.000096  0.000380  0.000063  0.000051  0.000059\n^DJI   0.000588  0.000063  0.000625  0.000408  0.000569\n^FTSE  0.000497  0.000051  0.000408  0.000514  0.000377\n^GSPC  0.000547  0.000059  0.000569  0.000377  0.000550",
      "text/html": "<div>\n<style scoped>\n    .dataframe tbody tr th:only-of-type {\n        vertical-align: middle;\n    }\n\n    .dataframe tbody tr th {\n        vertical-align: top;\n    }\n\n    .dataframe thead th {\n        text-align: right;\n    }\n</style>\n<table border=\"1\" class=\"dataframe\">\n  <thead>\n    <tr style=\"text-align: right;\">\n      <th></th>\n      <th>EZU</th>\n      <th>GLD</th>\n      <th>^DJI</th>\n      <th>^FTSE</th>\n      <th>^GSPC</th>\n    </tr>\n  </thead>\n  <tbody>\n    <tr>\n      <th>EZU</th>\n      <td>0.000813</td>\n      <td>0.000096</td>\n      <td>0.000588</td>\n      <td>0.000497</td>\n      <td>0.000547</td>\n    </tr>\n    <tr>\n      <th>GLD</th>\n      <td>0.000096</td>\n      <td>0.000380</td>\n      <td>0.000063</td>\n      <td>0.000051</td>\n      <td>0.000059</td>\n    </tr>\n    <tr>\n      <th>^DJI</th>\n      <td>0.000588</td>\n      <td>0.000063</td>\n      <td>0.000625</td>\n      <td>0.000408</td>\n      <td>0.000569</td>\n    </tr>\n    <tr>\n      <th>^FTSE</th>\n      <td>0.000497</td>\n      <td>0.000051</td>\n      <td>0.000408</td>\n      <td>0.000514</td>\n      <td>0.000377</td>\n    </tr>\n    <tr>\n      <th>^GSPC</th>\n      <td>0.000547</td>\n      <td>0.000059</td>\n      <td>0.000569</td>\n      <td>0.000377</td>\n      <td>0.000550</td>\n    </tr>\n  </tbody>\n</table>\n</div>"
     },
     "metadata": {},
     "output_type": "display_data"
    }
   ],
   "source": [
    "covariances = {'model 1': None, 'model 2': None}\n",
    "\n",
    "for model in models:\n",
    "    log_returns = get_log_return(models[model]).dropna()\n",
    "    matrix = log_returns.cov()\n",
    "    print(model, 'Covariance matrix:')\n",
    "    display(matrix)\n",
    "    covariances[model] = log_returns.cov()"
   ]
  },
  {
   "cell_type": "markdown",
   "metadata": {},
   "source": [
    "### Optimal portfolio in each case\n",
    "\n",
    "In order to calculate the optimal portfolio, there are different approaches, but we are going to follow the min-variance portfolio, while visualizing the efficient frontier for the different options\n",
    "\n",
    "$$ E_{ret} = w_1·\\sigma_1 + w_2·\\sigma_2$$\n",
    "\n",
    "$$ P_{var} = w_1^2·\\sigma_1^2 + w_2^2·\\sigma_2^2 + 2·w_1·w_2·Cov_{1,2}$$\n",
    "\n",
    "Upper formula is calculated for a portfolio with 2 assets, but applying algebraic functions we can extend it to a larger portfolio.\n",
    "\n",
    "We will also make use of the Risk Free rate defined by Fama and French to apply to the 3 Factor Model bafore calculating the optimal portfolios. [Source: [Weekly Fama/French 3 Factors](https://mba.tuck.dartmouth.edu/pages/faculty/ken.french/data_library.html)]\n"
   ]
  },
  {
   "cell_type": "code",
   "execution_count": 9,
   "metadata": {
    "pycharm": {
     "name": "#%%\n"
    }
   },
   "outputs": [
    {
     "name": "stdout",
     "output_type": "stream",
     "text": [
      "Model 1 RF (mean value): 0.031\n",
      "Model 2 RF (mean value): 0.02\n"
     ]
    }
   ],
   "source": [
    "fff = pd.read_csv('F-F_Research_Data_Factors_weekly.csv', skiprows=3, skipfooter=1)\n",
    "fff['Date'] = pd.to_datetime(fff.iloc[:,0],format='%Y%m%d')\n",
    "rf = fff[['Date', 'RF']]\n",
    "model1_rf = rf[(rf['Date']>='2020-01-27') & (rf['Date']<= '2020-03-23')]\n",
    "# display(model1_rf)\n",
    "print(f'Model 1 RF (mean value): {round(model1_rf.mean()[0],3)}')\n",
    "model2_rf = rf[(rf['Date']>='2015-01-01') & (rf['Date']<= '2019-12-31')]\n",
    "# display(model2_rf)\n",
    "print(f'Model 2 RF (mean value): {round(model2_rf.mean()[0],3)}')\n",
    "\n",
    "risk_free_rates = {'model 1':model1_rf, 'model 2':model2_rf}"
   ]
  },
  {
   "cell_type": "markdown",
   "metadata": {},
   "source": [
    "To estimate the optimal portfolio in each case, we can either follow a random approach, generating a large number of portfolios, or directly minimizing the function.\n",
    "In both cases we will calculate the minimum variance portfolio, and the maximum sharpe ratio portfolio.\n",
    "\n",
    "$$ S = \\frac{R_p-R_f}{\\sigma_p} $$\n",
    "\n",
    "        1. Generating 100000 portfolios with different weights"
   ]
  },
  {
   "cell_type": "code",
   "execution_count": 10,
   "metadata": {
    "pycharm": {
     "name": "#%%\n"
    }
   },
   "outputs": [],
   "source": [
    "def expected_return(mean_returns, weight):\n",
    "    return np.dot(mean_returns, weight)\n",
    "\n",
    "def rand_weigh(size_r):\n",
    "    rnd = np.random.random(size_r)\n",
    "    rnd /= rnd.sum()\n",
    "    return rnd\n",
    "\n",
    "def portfolio_var(weights_p, cov_matrix, periods):\n",
    "    return np.sqrt(np.dot(weights_p.T, np.dot(cov_matrix*periods,weights_p)))"
   ]
  },
  {
   "cell_type": "code",
   "execution_count": 11,
   "metadata": {
    "pycharm": {
     "name": "#%%\n"
    }
   },
   "outputs": [
    {
     "name": "stdout",
     "output_type": "stream",
     "text": [
      "model 1 (Rf: 0.031):\n",
      "---------------MIN-VARIANCE----------------\n",
      "Variance:0.3816\tReturn:-0.018\tSharpe:-0.04806355725007828\n",
      "Weights:[0.0059 0.7888 0.0857 0.0282 0.0914]\n",
      "---------------MAX SHARPE RATIO----------------\n",
      "Variance:0.3832\tReturn:-0.0171\tSharpe:-0.045418578280729004\n",
      "Weights:[0.0402 0.8181 0.0536 0.043  0.0451]\n"
     ]
    },
    {
     "data": {
      "text/plain": "<Figure size 432x288 with 1 Axes>",
      "image/png": "[encoded data removed]"
     },
     "metadata": {
      "needs_background": "light"
     },
     "output_type": "display_data"
    },
    {
     "name": "stdout",
     "output_type": "stream",
     "text": [
      "model 2 (Rf: 0.02):\n",
      "---------------MIN-VARIANCE----------------\n",
      "Variance:0.1107\tReturn:0.0011\tSharpe:0.008240430520038741\n",
      "Weights:[0.0011 0.5247 0.0481 0.2669 0.1592]\n",
      "---------------MAX SHARPE RATIO----------------\n",
      "Variance:0.1158\tReturn:0.0012\tSharpe:0.008885417804827645\n",
      "Weights:[0.0007 0.6791 0.212  0.0507 0.0575]\n"
     ]
    },
    {
     "data": {
      "text/plain": "<Figure size 432x288 with 1 Axes>",
      "image/png": "[encoded data removed]"
     },
     "metadata": {
      "needs_background": "light"
     },
     "output_type": "display_data"
    }
   ],
   "source": [
    "# generating 100000 different portfolios\n",
    "for model in covariances:\n",
    "    returns = []\n",
    "    variances = []\n",
    "    weights = []\n",
    "    sharpe_ratios = []\n",
    "    covariance = covariances[model]\n",
    "    rfr = risk_free_rates[model].mean()[0]\n",
    "    print(f'{model} (Rf: {round(rfr,3)}):')\n",
    "    rfr = np.log(1+rfr)  # for calculations we are using the log, like we did with the returns\n",
    "    for i in range(100000):\n",
    "        w = rand_weigh(len(covariance))\n",
    "        weights.append(w)\n",
    "        e = expected_return(expected_returns_dict[model],w)\n",
    "        returns.append(e)\n",
    "        v = portfolio_var(w, covariance, 52)  # 52 weeks annualy\n",
    "        variances.append(v)\n",
    "        sharpe_ratios.append((e-rfr/100)/v)\n",
    "    plt.scatter(variances, returns)\n",
    "    min_v = min(variances)\n",
    "    index = variances.index(min_v)\n",
    "    min_ret = returns[index]\n",
    "    min_w = weights[index]\n",
    "    print('---------------MIN-VARIANCE----------------')\n",
    "    print(f'Variance:{round(min_v,4)}\\tReturn:{round(min_ret,4)}\\tSharpe:{sharpe_ratios[index]}\\nWeights:{np.around(min_w,4)}')\n",
    "    s = max(sharpe_ratios)\n",
    "    s_index = sharpe_ratios.index(s)\n",
    "    print('---------------MAX SHARPE RATIO----------------')\n",
    "    print(f'Variance:{round(variances[s_index],4)}\\tReturn:{round(returns[s_index],4)}\\tSharpe:{sharpe_ratios[s_index]}\\nWeights:{np.around(weights[s_index],4)}')\n",
    "    plt.scatter(min_v, min_ret, c = 'yellow',label='min variance', cmap='coolwarm')\n",
    "    plt.xlabel('Portfolio Variance')\n",
    "    plt.ylabel('Expected Returns')\n",
    "    plt.title(f'{model} Efficient Frontier')\n",
    "    plt.scatter(variances[s_index], returns[s_index], c = 'red', label='max sharpe ratio')\n",
    "    # plt.scatter(0,rfr,c='g',label='RF rate')\n",
    "    plt.legend()\n",
    "    plt.show()\n"
   ]
  },
  {
   "cell_type": "markdown",
   "metadata": {
    "pycharm": {
     "name": "#%% md\n"
    }
   },
   "source": [
    "This approach is not exact, as it is based on randomness it will always give us a different result, although it will be very close and it will minimise the variance as tested."
   ]
  },
  {
   "cell_type": "markdown",
   "metadata": {},
   "source": [
    "        2. Apply optimization to maximize the Sharpe Ratio or minimize the variance separately\n"
   ]
  },
  {
   "cell_type": "code",
   "execution_count": 12,
   "metadata": {
    "pycharm": {
     "name": "#%%\n"
    }
   },
   "outputs": [
    {
     "name": "stdout",
     "output_type": "stream",
     "text": [
      "\n",
      "model 1 (Rf: 0.0306):\n",
      "**********Min-Variance**********\n",
      "Variance:0.3691\tReturn:-0.0121\n",
      "Weights: [0.     0.9225 0.     0.     0.0775]\n",
      "Sharpe Ratio:0.050137756743618735\n",
      "\n",
      "**********Sharpe Ratio**********\n",
      "Variance:0.3707\tReturn:-0.0091\n",
      "Weights: [0. 1. 0. 0. 0.]\n",
      "Sharpe Ratio:0.058058652324823525\n",
      "\n",
      "\n",
      "model 2 (Rf: 0.0205):\n",
      "**********Min-Variance**********\n",
      "Variance:0.1102\tReturn:0.0011\n",
      "Weights: [0.     0.5511 0.     0.2661 0.1828]\n",
      "Sharpe Ratio:0.19587008727078775\n",
      "\n",
      "**********Sharpe Ratio**********\n",
      "Variance:0.1102\tReturn:0.0011\n",
      "Weights: [0.     0.5577 0.     0.2527 0.1896]\n",
      "Sharpe Ratio:0.19589438469101472\n",
      "\n"
     ]
    }
   ],
   "source": [
    "def calculate_sharpe(weights_s, returns_s, covariance_s, periods, rf_s):\n",
    "    return (-expected_return(returns_s, weights_s)-rf_s)/portfolio_var(weights_s, covariance_s, periods)\n",
    "\n",
    "def minimize_var(log_returns_matrix, covariance_matrix, rf_matrix, n_periods, weights_arr, bounds, contraints):\n",
    "    optv = sco.minimize(portfolio_var, weights_arr, args=(covariance_matrix, n_periods), method='SLSQP', bounds=bounds, constraints=contraints)  # variance optimization\n",
    "    w_v = optv['x']  # weights of variance minimization\n",
    "    var_v = portfolio_var(w_v, covariance_matrix, n_periods)\n",
    "    ret_v = expected_return(log_returns_matrix, w_v)\n",
    "    sr_v = -calculate_sharpe(w_v, log_returns_matrix, covariance_matrix, n_periods, rf_matrix)\n",
    "    print('**********Min-Variance**********')\n",
    "    print(f'Variance:{round(var_v,4)}\\tReturn:{round(ret_v,4)}\\nWeights: {np.around(w_v,4)}')\n",
    "    print(f'Sharpe Ratio:{sr_v}')\n",
    "    return w_v\n",
    "\n",
    "def maximize_sharpe(log_returns_matrix, covariance_matrix, rf_matrix, n_periods, weights_arr, bounds, contraints):\n",
    "    opts = sco.minimize(calculate_sharpe, weights_arr, args=(log_returns_matrix, covariance_matrix, n_periods, rf_matrix), method='SLSQP', bounds=bounds, constraints=contraints)  # sharpe optimization\n",
    "    w_s = opts['x']  # weights of sharpe maximization\n",
    "    var_s = portfolio_var(w_s, covariance_matrix, n_periods)\n",
    "    ret_s = expected_return(ret, w_s)\n",
    "    sr_s = -calculate_sharpe(w_s, ret, covariance_matrix, n_periods, rf_matrix)\n",
    "    print('\\n**********Sharpe Ratio**********')\n",
    "    print(f'Variance:{round(var_s,4)}\\tReturn:{round(ret_s,4)}\\nWeights: {np.around(w_s,4)}')\n",
    "    print(f'Sharpe Ratio:{sr_s}\\n')\n",
    "    return w_s\n",
    "\n",
    "\n",
    "constraint = {'type':'eq', 'fun':lambda x: np.sum(x)-1}\n",
    "size = len(ticker_list)\n",
    "bound = tuple((0,1) for x in range(size))\n",
    "eq_weights = np.array(size*[1./size,])\n",
    "\n",
    "for model in covariances:\n",
    "    rf = risk_free_rates[model].mean()[0]\n",
    "    cov = covariances[model]\n",
    "    ret = expected_returns_dict[model]\n",
    "    n = 52\n",
    "    print(f'\\n{model} (Rf: {round(rf,4)}):')\n",
    "    minimize_var(ret, cov, rf, n, eq_weights, bound, constraint)\n",
    "    maximize_sharpe(ret, cov, rf, n, eq_weights, bound, constraint)"
   ]
  },
  {
   "cell_type": "markdown",
   "metadata": {},
   "source": [
    "### Which model is correct. Why?\n",
    "\n",
    "We cannot say that one model or the other is correct or not. Instead of that we should be talking about which model is more accurate. In that case, it is obvious that the second model, that contains more data points is probably the most accurate.\n",
    "The first model only depicts the starting period of a crisis, where all the stock prices were falling. Therefore we could say that the first model is biased, as it only contains a small amount of data in a particular period, which is not fair to the full model.\n",
    "On the other hand, the second model contains data of 5 years, which gives us a bigger picture of the market, and more trustworthy. After all, with more data available to model, more precise will be the final result. In this model we find a variety of returns, and as we can see in the efficient frontier (Figure 2), it resembles more the expected efficient frontier of a portfolio.\n",
    "\n",
    "As for the two approaches followed in this part, the second one, using optimization is definitely more accurate as it can either minimize the variance or maximize the sharpe ratio. In contrast, the generative (first approach), may be more easily done/visualized, but it will never obtain the same results. For this matter, the second model gives us much better results, in fact, both minimum variance portfolio and maximum sharpe are practically the same. As we can see in the last data displayed, we can obtain a log-return of 0.0011 with a variance of 0.112, far better results than the model 1, where return is negative in its peak."
   ]
  },
  {
   "cell_type": "markdown",
   "metadata": {},
   "source": [
    "## Exercise 2 - 60 Marks\n",
    "\n",
    "Use shrinkage method to model the data"
   ]
  },
  {
   "cell_type": "markdown",
   "metadata": {},
   "source": [
    "### Calculate annual covariance matrix with the estimated shrinkage"
   ]
  },
  {
   "cell_type": "code",
   "execution_count": 13,
   "metadata": {
    "pycharm": {
     "name": "#%%\n"
    }
   },
   "outputs": [],
   "source": [
    "import numpy as np\n",
    "import nonlinshrink as nls\n",
    "from sklearn.covariance import LedoitWolf"
   ]
  },
  {
   "cell_type": "code",
   "execution_count": 23,
   "outputs": [
    {
     "data": {
      "text/plain": "array([[0.0060047 , 0.00250266, 0.0046593 , 0.00403345, 0.00406926],\n       [0.00250266, 0.00267829, 0.00204752, 0.00227408, 0.00170557],\n       [0.0046593 , 0.00204752, 0.00625939, 0.00287242, 0.00480817],\n       [0.00403345, 0.00227408, 0.00287242, 0.0048898 , 0.00255923],\n       [0.00406926, 0.00170557, 0.00480817, 0.00255923, 0.00499292]])"
     },
     "metadata": {},
     "output_type": "display_data"
    }
   ],
   "source": [
    "\n",
    "# for model in models:\n",
    "model = 'model 1'\n",
    "sh_returns = get_log_return(models[model]).dropna()\n",
    "p = len(sh_returns.columns)  # number of variables\n",
    "n = len(sh_returns)  # number of observations\n",
    "# sigma = np.eye(p, p)\n",
    "# data = np.random.multivariate_normal(np.zeros(p), sigma, n)\n",
    "sigma_tilde = LedoitWolf().fit(sh_returns)\n",
    "# sigma_tilde = nls.shrink_cov(sh_returns)\n",
    "# sh_returns\n",
    "display(sigma_tilde.covariance_)  # shrinkage covariance matrix"
   ],
   "metadata": {
    "collapsed": false,
    "pycharm": {
     "name": "#%%\n"
    }
   }
  },
  {
   "cell_type": "code",
   "execution_count": null,
   "metadata": {
    "pycharm": {
     "name": "#%%\n"
    }
   },
   "outputs": [],
   "source": [
    "\n",
    "# for model in models:\n",
    "model = 'model 2'\n",
    "sh_returns = get_log_return(models[model]).dropna()\n",
    "sigma_tilde = nls.shrink_cov(sh_returns)\n",
    "sigma_tilde  # shrinkage covariance matrix"
   ]
  },
  {
   "cell_type": "markdown",
   "metadata": {},
   "source": [
    "<div class=\"alert alert-block alert-warning\">\n",
    "We cannot use the designated shrinkage method for model 1\n",
    "<div>"
   ]
  },
  {
   "cell_type": "code",
   "execution_count": 25,
   "outputs": [
    {
     "data": {
      "text/plain": "{'model 1': array([[0.0060047 , 0.00250266, 0.0046593 , 0.00403345, 0.00406926],\n        [0.00250266, 0.00267829, 0.00204752, 0.00227408, 0.00170557],\n        [0.0046593 , 0.00204752, 0.00625939, 0.00287242, 0.00480817],\n        [0.00403345, 0.00227408, 0.00287242, 0.0048898 , 0.00255923],\n        [0.00406926, 0.00170557, 0.00480817, 0.00255923, 0.00499292]]),\n 'model 2': array([[7.95602177e-04, 8.93942642e-05, 5.48014136e-04, 4.63478548e-04,\n         5.09687810e-04],\n        [8.93942642e-05, 3.91614622e-04, 5.83463326e-05, 4.71586806e-05,\n         5.52744635e-05],\n        [5.48014136e-04, 5.83463326e-05, 6.20518236e-04, 3.80392324e-04,\n         5.30609967e-04],\n        [4.63478548e-04, 4.71586806e-05, 3.80392324e-04, 5.16246200e-04,\n         3.50902993e-04],\n        [5.09687810e-04, 5.52744635e-05, 5.30609967e-04, 3.50902993e-04,\n         5.50412526e-04]])}"
     },
     "execution_count": 25,
     "metadata": {},
     "output_type": "execute_result"
    }
   ],
   "source": [
    "sh_covariances = {}\n",
    "\n",
    "for model in models:\n",
    "    sh_returns = get_log_return(models[model]).dropna()\n",
    "    sh_covariances[model] = LedoitWolf().fit(sh_returns).covariance_\n",
    "\n",
    "sh_covariances"
   ],
   "metadata": {
    "collapsed": false,
    "pycharm": {
     "name": "#%%\n"
    }
   }
  },
  {
   "cell_type": "markdown",
   "metadata": {},
   "source": [
    "### Calculate optimal portfolio in both cases\n",
    "\n",
    "We are going to use directly the optimization method applied to model 2"
   ]
  },
  {
   "cell_type": "code",
   "execution_count": null,
   "outputs": [],
   "source": [],
   "metadata": {
    "collapsed": false,
    "pycharm": {
     "name": "#%%\n"
    }
   }
  },
  {
   "cell_type": "code",
   "execution_count": 26,
   "metadata": {
    "pycharm": {
     "name": "#%%\n"
    }
   },
   "outputs": [
    {
     "name": "stdout",
     "output_type": "stream",
     "text": [
      "\n",
      "model 1 (Rf: 0.0306):\n",
      "**********Min-Variance**********\n",
      "Variance:0.357\tReturn:-0.0192\n",
      "Weights: [0.     0.7405 0.     0.0442 0.2153]\n",
      "Sharpe Ratio:0.03195196920729308\n",
      "\n",
      "**********Sharpe Ratio**********\n",
      "Variance:0.3732\tReturn:-0.0091\n",
      "Weights: [0. 1. 0. 0. 0.]\n",
      "Sharpe Ratio:0.05766650421559432\n",
      "\n",
      "\n",
      "model 2 (Rf: 0.0205):\n",
      "**********Min-Variance**********\n",
      "Variance:0.11\tReturn:0.0011\n",
      "Weights: [0.     0.5356 0.     0.2653 0.1991]\n",
      "Sharpe Ratio:0.19614856875135658\n",
      "\n",
      "**********Sharpe Ratio**********\n",
      "Variance:0.11\tReturn:0.0011\n",
      "Weights: [0.     0.5413 0.     0.2541 0.2046]\n",
      "Sharpe Ratio:0.19616545951210945\n",
      "\n"
     ]
    }
   ],
   "source": [
    "# min variance\n",
    "for model in sh_covariances:\n",
    "    rf = risk_free_rates[model].mean()[0]\n",
    "    cov = sh_covariances[model]\n",
    "    ret = expected_returns_dict[model]\n",
    "    n = 52\n",
    "\n",
    "    print(f'\\n{model} (Rf: {round(rf,4)}):')\n",
    "    pf_min_var = minimize_var(ret, cov, rf, n, eq_weights, bound, constraint)\n",
    "    pf_max_sr = maximize_sharpe(ret, cov, rf, n, eq_weights, bound, constraint)"
   ]
  },
  {
   "cell_type": "markdown",
   "metadata": {},
   "source": [
    "### Explain advantage of shrinkage in smaller samples\n",
    "\n"
   ]
  },
  {
   "cell_type": "markdown",
   "source": [
    "In smaller samples the shrinkage method should normalize the weights between all of the sample date, reducing the weight of some of the outliers. But in this case it is not possible to demonstrate this.\n",
    "\n",
    "Shrinkage, applied to these type of time series can help to optimize further the different parameters. In this case we are estimating the optimal portfolio given the weights of 5 different assets, by minimizing the variance or maximizing the sharpe ratio.\n",
    "If we take a look at the model 1, we can see that for the same matrix of log returns, we obtain a portfolio with even lower variance by using the shrank covariance matrix. As for the model 2, we can notice a similar thing. For the min-variance portfolio we have an even lower variance, and also a slightly higher sharpe ratio. For the max-sharpe ratio portfolio, we again have a larger sharpe ratio, therefore maximizing the returns on variance.\n",
    "All in all, with the LedoitWolf shrinkage method we can truly optimize the algorithms, and obtain better fitted results."
   ],
   "metadata": {
    "collapsed": false
   }
  },
  {
   "cell_type": "markdown",
   "metadata": {
    "pycharm": {
     "name": "#%% md\n"
    }
   },
   "source": [
    "### Final Portfolio"
   ]
  },
  {
   "cell_type": "code",
   "execution_count": 27,
   "outputs": [
    {
     "name": "stdout",
     "output_type": "stream",
     "text": [
      "Final portfolio weights:\n",
      "^DJI      0.000\n",
      "^GSPC    54.129\n",
      "^FTSE     0.000\n",
      "EZU      25.408\n",
      "GLD      20.463\n",
      "dtype: float64\n",
      "sum of weights: 1.0\n"
     ]
    }
   ],
   "source": [
    "print('Final portfolio weights:')\n",
    "print(pd.Series(np.around(pf_max_sr*100,3),ticker_list))\n",
    "print(f'sum of weights: {sum(pf_max_sr)}')"
   ],
   "metadata": {
    "collapsed": false,
    "pycharm": {
     "name": "#%%\n"
    }
   }
  },
  {
   "cell_type": "markdown",
   "source": [
    "Between both models it is clear that we should use the second one, as stated previously. Between the normal covariance matrix, and the shrank, we will be using the portfolio weights outputted by the shrinkage method. The results obtained in comparison are a lower variance, for the same expected returns. This also gives us a higher sharpe ratio, while maintaining a variance similar or almost identical to the min-variance portfolio.\n",
    "Therefore, the weights obtained for this portfolio are only 3 assets:\n",
    "\n",
    " - `^GSPC`: 54.129 %\n",
    " - `EZU`: 25.408 %\n",
    " - `GLD`: 20.463 %"
   ],
   "metadata": {
    "collapsed": false
   }
  }
 ],
 "metadata": {
  "kernelspec": {
   "display_name": "Python 3",
   "language": "python",
   "name": "python3"
  },
  "language_info": {
   "codemirror_mode": {
    "name": "ipython",
    "version": 3
   },
   "file_extension": ".py",
   "mimetype": "text/x-python",
   "name": "python",
   "nbconvert_exporter": "python",
   "pygments_lexer": "ipython3",
   "version": "3.8.8"
  }
 },
 "nbformat": 4,
 "nbformat_minor": 1
}